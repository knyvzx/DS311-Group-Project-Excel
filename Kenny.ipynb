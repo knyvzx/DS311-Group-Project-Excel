{
 "cells": [
  {
   "cell_type": "code",
   "execution_count": 7,
   "id": "b0ec6aec",
   "metadata": {},
   "outputs": [
    {
     "name": "stdout",
     "output_type": "stream",
     "text": [
      "                                 Dog ID  Total Tests Completed  \\\n",
      "0  fd27b272-7144-11e5-ba71-058fbc01cf0b                     21   \n",
      "1  fd27b5ba-7144-11e5-ba71-058fbc01cf0b                     20   \n",
      "2  fd27b6b4-7144-11e5-ba71-058fbc01cf0b                      2   \n",
      "3  fd27b79a-7144-11e5-ba71-058fbc01cf0b                     11   \n",
      "4  fd27b86c-7144-11e5-ba71-058fbc01cf0b                     31   \n",
      "\n",
      "   Mean ITI (days)  Mean ITI (minutes)  Median ITI (days)  \\\n",
      "0        28.201076        40609.549167           0.004687   \n",
      "1         0.413307          595.162281           0.005845   \n",
      "2         0.009132           13.150000           0.009132   \n",
      "3        56.115179        80805.858333           0.004433   \n",
      "4         7.734254        11137.326111           0.000399   \n",
      "\n",
      "   Median ITI (minutes)  Time diff between first and last game (days)  \\\n",
      "0              6.750000                                    564.021516   \n",
      "1              8.416667                                      7.852836   \n",
      "2             13.150000                                      0.009132   \n",
      "3              6.383333                                    561.151794   \n",
      "4              0.575000                                    232.027627   \n",
      "\n",
      "   Time diff between first and last game (minutes)  \\\n",
      "0                                    812190.983333   \n",
      "1                                     11308.083333   \n",
      "2                                        13.150000   \n",
      "3                                    808058.583333   \n",
      "4                                    334119.783333   \n",
      "\n",
      "                                User ID  Gender  ...  Membership_ID  \\\n",
      "0  ce134e42-7144-11e5-ba71-058fbc01cf0b  female  ...            2.0   \n",
      "1  ce1353d8-7144-11e5-ba71-058fbc01cf0b    male  ...            1.0   \n",
      "2  ce135ab8-7144-11e5-ba71-058fbc01cf0b    male  ...            1.0   \n",
      "3  ce13507c-7144-11e5-ba71-058fbc01cf0b    male  ...            1.0   \n",
      "4  ce135e14-7144-11e5-ba71-058fbc01cf0b  female  ...            2.0   \n",
      "\n",
      "  Subscribed         City State    Zip  Country  Exclude Free_Start_User  \\\n",
      "0        1.0  Grand Forks    ND  58201       US        0               0   \n",
      "1        1.0        Barre    MA  01005       US        0               0   \n",
      "2        1.0       Darien    CT  06820       US        0               0   \n",
      "3        1.0     Winnetka    IL  60093       US        0               0   \n",
      "4        1.0      Raleigh    NC  27606       US        1               0   \n",
      "\n",
      "        Last_Active_At  Membership_Type  \n",
      "0  2015-03-12 00:25:00                2  \n",
      "1             00:00:00                1  \n",
      "2             00:00:00                1  \n",
      "3  2014-09-12 19:26:00                1  \n",
      "4             00:00:00                2  \n",
      "\n",
      "[5 rows x 30 columns]\n"
     ]
    }
   ],
   "source": [
    "import pandas as pd\n",
    "\n",
    "df1 = pd.read_excel(\"dognition_data_aggregated_by_dogid.xlsx\")\n",
    "\n",
    "print(df1.head())\n",
    "\n"
   ]
  },
  {
   "cell_type": "code",
   "execution_count": 29,
   "id": "a771ab30",
   "metadata": {},
   "outputs": [
    {
     "name": "stdout",
     "output_type": "stream",
     "text": [
      "           Created_at          Updated_at  \\\n",
      "0 2013-05-13 16:17:00 2013-05-13 16:17:00   \n",
      "1 2013-05-22 18:54:00 2013-05-22 18:54:00   \n",
      "2 2013-05-22 18:55:00 2013-05-22 18:55:00   \n",
      "3 2013-05-22 18:56:00 2013-05-22 18:56:00   \n",
      "4 2013-05-22 18:58:00 2013-05-22 18:58:00   \n",
      "\n",
      "                                User_ID                                Dog_ID  \\\n",
      "0  ce134a78-7144-11e5-ba71-058fbc01cf0b  fd3d1b44-7144-11e5-ba71-058fbc01cf0b   \n",
      "1  ce134a78-7144-11e5-ba71-058fbc01cf0b  fd3d1b44-7144-11e5-ba71-058fbc01cf0b   \n",
      "2  ce134a78-7144-11e5-ba71-058fbc01cf0b  fd3d1b44-7144-11e5-ba71-058fbc01cf0b   \n",
      "3  ce134a78-7144-11e5-ba71-058fbc01cf0b  fd3d1b44-7144-11e5-ba71-058fbc01cf0b   \n",
      "4  ce134a78-7144-11e5-ba71-058fbc01cf0b  fd3d1b44-7144-11e5-ba71-058fbc01cf0b   \n",
      "\n",
      "             Test_name Subcategory_name Gender  Birthday     Breed  \\\n",
      "0         Yawn Warm-up          Empathy   male      2009  Shih Tzu   \n",
      "1            Yawn Game          Empathy   male      2009  Shih Tzu   \n",
      "2  Eye Contact Warm-up          Empathy   male      2009  Shih Tzu   \n",
      "3     Eye Contact Game          Empathy   male      2009  Shih Tzu   \n",
      "4        Treat Warm-up    Communication   male      2009  Shih Tzu   \n",
      "\n",
      "   Breed_Type  ... State    Zip  Country  Exclude Free_Start_User  \\\n",
      "0  Pure Breed  ...    NC  27701       US        1               0   \n",
      "1  Pure Breed  ...    NC  27701       US        1               0   \n",
      "2  Pure Breed  ...    NC  27701       US        1               0   \n",
      "3  Pure Breed  ...    NC  27701       US        1               0   \n",
      "4  Pure Breed  ...    NC  27701       US        1               0   \n",
      "\n",
      "        Last_Active_At  Membership_Type  Rating  Rank_by_UserID Rank_by_DogID  \n",
      "0  2015-02-23 13:39:00                2     NaN             1.0           1.0  \n",
      "1  2015-02-23 13:39:00                2     NaN             2.0           2.0  \n",
      "2  2015-02-23 13:39:00                2     NaN             3.0           3.0  \n",
      "3  2015-02-23 13:39:00                2     NaN             4.0           4.0  \n",
      "4  2015-02-23 13:39:00                2     NaN             5.0           5.0  \n",
      "\n",
      "[5 rows x 30 columns]\n"
     ]
    }
   ],
   "source": [
    "df2 = pd.read_excel(\"dognition_data_no_aggregation_with_zip_code_correction.xlsx\")\n",
    "\n",
    "print(df2.head())\n"
   ]
  },
  {
   "cell_type": "code",
   "execution_count": 30,
   "id": "c72971a6",
   "metadata": {},
   "outputs": [
    {
     "name": "stdout",
     "output_type": "stream",
     "text": [
      "\n",
      "Column Names for df3:\n",
      "Index(['Dog ID', 'Total Tests Completed', 'Mean ITI (days)',\n",
      "       'Mean ITI (minutes)', 'Median ITI (days)', 'Median ITI (minutes)',\n",
      "       'Time diff between first and last game (days)',\n",
      "       'Time diff between first and last game (minutes)', 'User ID', 'Gender',\n",
      "       'Birthday', 'Breed', 'Breed_Type', 'Breed_Group', 'Weight', 'Dog_Fixed',\n",
      "       'DNA_Tested', 'Dimension', 'Sign_in_Count', 'Max_Dogs', 'Membership_ID',\n",
      "       'Subscribed', 'City', 'State', 'Zip', 'Country', 'Exclude',\n",
      "       'Free_Start_User', 'Last_Active_At', 'Membership_Type', 'Created_at',\n",
      "       'Updated_at', 'User_ID', 'Dog_ID', 'Test_name', 'Subcategory_name',\n",
      "       'Rating', 'Rank_by_UserID', 'Rank_by_DogID'],\n",
      "      dtype='object')\n"
     ]
    }
   ],
   "source": [
    "df3 = pd.concat([df1, df2], ignore_index=True)\n",
    "print(\"\\nColumn Names for df3:\")\n",
    "print(df3.columns)"
   ]
  },
  {
   "cell_type": "code",
   "execution_count": 33,
   "id": "578acae6",
   "metadata": {
    "scrolled": true
   },
   "outputs": [
    {
     "data": {
      "text/html": [
       "<div>\n",
       "<style scoped>\n",
       "    .dataframe tbody tr th:only-of-type {\n",
       "        vertical-align: middle;\n",
       "    }\n",
       "\n",
       "    .dataframe tbody tr th {\n",
       "        vertical-align: top;\n",
       "    }\n",
       "\n",
       "    .dataframe thead th {\n",
       "        text-align: right;\n",
       "    }\n",
       "</style>\n",
       "<table border=\"1\" class=\"dataframe\">\n",
       "  <thead>\n",
       "    <tr style=\"text-align: right;\">\n",
       "      <th></th>\n",
       "      <th>Dog ID</th>\n",
       "      <th>Total Tests Completed</th>\n",
       "      <th>Mean ITI (days)</th>\n",
       "      <th>Mean ITI (minutes)</th>\n",
       "      <th>Median ITI (days)</th>\n",
       "      <th>Gender</th>\n",
       "      <th>Birthday</th>\n",
       "      <th>Breed</th>\n",
       "      <th>Dimension</th>\n",
       "    </tr>\n",
       "  </thead>\n",
       "  <tbody>\n",
       "    <tr>\n",
       "      <th>0</th>\n",
       "      <td>fd27b272-7144-11e5-ba71-058fbc01cf0b</td>\n",
       "      <td>21.0</td>\n",
       "      <td>28.201076</td>\n",
       "      <td>40609.549167</td>\n",
       "      <td>0.004687</td>\n",
       "      <td>female</td>\n",
       "      <td>2011.0</td>\n",
       "      <td>Labrador Retriever</td>\n",
       "      <td>charmer</td>\n",
       "    </tr>\n",
       "    <tr>\n",
       "      <th>1</th>\n",
       "      <td>fd27b5ba-7144-11e5-ba71-058fbc01cf0b</td>\n",
       "      <td>20.0</td>\n",
       "      <td>0.413307</td>\n",
       "      <td>595.162281</td>\n",
       "      <td>0.005845</td>\n",
       "      <td>male</td>\n",
       "      <td>2007.0</td>\n",
       "      <td>Shetland Sheepdog</td>\n",
       "      <td>protodog</td>\n",
       "    </tr>\n",
       "    <tr>\n",
       "      <th>2</th>\n",
       "      <td>fd27b6b4-7144-11e5-ba71-058fbc01cf0b</td>\n",
       "      <td>2.0</td>\n",
       "      <td>0.009132</td>\n",
       "      <td>13.150000</td>\n",
       "      <td>0.009132</td>\n",
       "      <td>male</td>\n",
       "      <td>2012.0</td>\n",
       "      <td>Golden Retriever</td>\n",
       "      <td>0</td>\n",
       "    </tr>\n",
       "    <tr>\n",
       "      <th>3</th>\n",
       "      <td>fd27b79a-7144-11e5-ba71-058fbc01cf0b</td>\n",
       "      <td>11.0</td>\n",
       "      <td>56.115179</td>\n",
       "      <td>80805.858333</td>\n",
       "      <td>0.004433</td>\n",
       "      <td>male</td>\n",
       "      <td>2011.0</td>\n",
       "      <td>Golden Retriever</td>\n",
       "      <td>0</td>\n",
       "    </tr>\n",
       "    <tr>\n",
       "      <th>4</th>\n",
       "      <td>fd27b86c-7144-11e5-ba71-058fbc01cf0b</td>\n",
       "      <td>31.0</td>\n",
       "      <td>7.734254</td>\n",
       "      <td>11137.326111</td>\n",
       "      <td>0.000399</td>\n",
       "      <td>female</td>\n",
       "      <td>2010.0</td>\n",
       "      <td>Shih Tzu</td>\n",
       "      <td>einstein</td>\n",
       "    </tr>\n",
       "  </tbody>\n",
       "</table>\n",
       "</div>"
      ],
      "text/plain": [
       "                                 Dog ID  Total Tests Completed  \\\n",
       "0  fd27b272-7144-11e5-ba71-058fbc01cf0b                   21.0   \n",
       "1  fd27b5ba-7144-11e5-ba71-058fbc01cf0b                   20.0   \n",
       "2  fd27b6b4-7144-11e5-ba71-058fbc01cf0b                    2.0   \n",
       "3  fd27b79a-7144-11e5-ba71-058fbc01cf0b                   11.0   \n",
       "4  fd27b86c-7144-11e5-ba71-058fbc01cf0b                   31.0   \n",
       "\n",
       "   Mean ITI (days)  Mean ITI (minutes)  Median ITI (days)  Gender  Birthday  \\\n",
       "0        28.201076        40609.549167           0.004687  female    2011.0   \n",
       "1         0.413307          595.162281           0.005845    male    2007.0   \n",
       "2         0.009132           13.150000           0.009132    male    2012.0   \n",
       "3        56.115179        80805.858333           0.004433    male    2011.0   \n",
       "4         7.734254        11137.326111           0.000399  female    2010.0   \n",
       "\n",
       "                Breed Dimension  \n",
       "0  Labrador Retriever   charmer  \n",
       "1   Shetland Sheepdog  protodog  \n",
       "2    Golden Retriever         0  \n",
       "3    Golden Retriever         0  \n",
       "4            Shih Tzu  einstein  "
      ]
     },
     "execution_count": 33,
     "metadata": {},
     "output_type": "execute_result"
    }
   ],
   "source": [
    "Features = df3[[\"Dog ID\",\"Total Tests Completed\",\"Mean ITI (days)\", \"Mean ITI (minutes)\", \"Median ITI (days)\", \"Gender\", \"Birthday\", \"Breed\", \"Dimension\"]]\n",
    "Features.head()"
   ]
  },
  {
   "cell_type": "code",
   "execution_count": 67,
   "id": "2dc77596",
   "metadata": {
    "scrolled": true
   },
   "outputs": [
    {
     "ename": "KeyError",
     "evalue": "'Dimension'",
     "output_type": "error",
     "traceback": [
      "\u001b[1;31m---------------------------------------------------------------------------\u001b[0m",
      "\u001b[1;31mKeyError\u001b[0m                                  Traceback (most recent call last)",
      "File \u001b[1;32m~\\anaconda3\\Lib\\site-packages\\pandas\\core\\indexes\\base.py:3653\u001b[0m, in \u001b[0;36mIndex.get_loc\u001b[1;34m(self, key)\u001b[0m\n\u001b[0;32m   3652\u001b[0m \u001b[38;5;28;01mtry\u001b[39;00m:\n\u001b[1;32m-> 3653\u001b[0m     \u001b[38;5;28;01mreturn\u001b[39;00m \u001b[38;5;28mself\u001b[39m\u001b[38;5;241m.\u001b[39m_engine\u001b[38;5;241m.\u001b[39mget_loc(casted_key)\n\u001b[0;32m   3654\u001b[0m \u001b[38;5;28;01mexcept\u001b[39;00m \u001b[38;5;167;01mKeyError\u001b[39;00m \u001b[38;5;28;01mas\u001b[39;00m err:\n",
      "File \u001b[1;32m~\\anaconda3\\Lib\\site-packages\\pandas\\_libs\\index.pyx:147\u001b[0m, in \u001b[0;36mpandas._libs.index.IndexEngine.get_loc\u001b[1;34m()\u001b[0m\n",
      "File \u001b[1;32m~\\anaconda3\\Lib\\site-packages\\pandas\\_libs\\index.pyx:176\u001b[0m, in \u001b[0;36mpandas._libs.index.IndexEngine.get_loc\u001b[1;34m()\u001b[0m\n",
      "File \u001b[1;32mpandas\\_libs\\hashtable_class_helper.pxi:7080\u001b[0m, in \u001b[0;36mpandas._libs.hashtable.PyObjectHashTable.get_item\u001b[1;34m()\u001b[0m\n",
      "File \u001b[1;32mpandas\\_libs\\hashtable_class_helper.pxi:7088\u001b[0m, in \u001b[0;36mpandas._libs.hashtable.PyObjectHashTable.get_item\u001b[1;34m()\u001b[0m\n",
      "\u001b[1;31mKeyError\u001b[0m: 'Dimension'",
      "\nThe above exception was the direct cause of the following exception:\n",
      "\u001b[1;31mKeyError\u001b[0m                                  Traceback (most recent call last)",
      "Cell \u001b[1;32mIn[67], line 1\u001b[0m\n\u001b[1;32m----> 1\u001b[0m Features[\u001b[38;5;124m\"\u001b[39m\u001b[38;5;124mDimension\u001b[39m\u001b[38;5;124m\"\u001b[39m]\u001b[38;5;241m.\u001b[39mreplace(\u001b[38;5;241m0\u001b[39m, \u001b[38;5;124m\"\u001b[39m\u001b[38;5;124mace\u001b[39m\u001b[38;5;124m\"\u001b[39m, inplace \u001b[38;5;241m=\u001b[39m \u001b[38;5;28;01mTrue\u001b[39;00m)\n\u001b[0;32m      2\u001b[0m Features[\u001b[38;5;124m\"\u001b[39m\u001b[38;5;124mDimension\u001b[39m\u001b[38;5;124m\"\u001b[39m] \u001b[38;5;241m=\u001b[39m Features[\u001b[38;5;124m\"\u001b[39m\u001b[38;5;124mDimension\u001b[39m\u001b[38;5;124m\"\u001b[39m]\u001b[38;5;241m.\u001b[39mfillna(Features[\u001b[38;5;124m\"\u001b[39m\u001b[38;5;124mDimension\u001b[39m\u001b[38;5;124m\"\u001b[39m]\u001b[38;5;241m.\u001b[39mmode)\n\u001b[0;32m      3\u001b[0m Dimension_totalTests \u001b[38;5;241m=\u001b[39m Features\u001b[38;5;241m.\u001b[39mgroupby([\u001b[38;5;124m'\u001b[39m\u001b[38;5;124mDimension\u001b[39m\u001b[38;5;124m'\u001b[39m])[\u001b[38;5;124m'\u001b[39m\u001b[38;5;124mTotal Tests Completed\u001b[39m\u001b[38;5;124m'\u001b[39m]\u001b[38;5;241m.\u001b[39msum()\n",
      "File \u001b[1;32m~\\anaconda3\\Lib\\site-packages\\pandas\\core\\frame.py:3761\u001b[0m, in \u001b[0;36mDataFrame.__getitem__\u001b[1;34m(self, key)\u001b[0m\n\u001b[0;32m   3759\u001b[0m \u001b[38;5;28;01mif\u001b[39;00m \u001b[38;5;28mself\u001b[39m\u001b[38;5;241m.\u001b[39mcolumns\u001b[38;5;241m.\u001b[39mnlevels \u001b[38;5;241m>\u001b[39m \u001b[38;5;241m1\u001b[39m:\n\u001b[0;32m   3760\u001b[0m     \u001b[38;5;28;01mreturn\u001b[39;00m \u001b[38;5;28mself\u001b[39m\u001b[38;5;241m.\u001b[39m_getitem_multilevel(key)\n\u001b[1;32m-> 3761\u001b[0m indexer \u001b[38;5;241m=\u001b[39m \u001b[38;5;28mself\u001b[39m\u001b[38;5;241m.\u001b[39mcolumns\u001b[38;5;241m.\u001b[39mget_loc(key)\n\u001b[0;32m   3762\u001b[0m \u001b[38;5;28;01mif\u001b[39;00m is_integer(indexer):\n\u001b[0;32m   3763\u001b[0m     indexer \u001b[38;5;241m=\u001b[39m [indexer]\n",
      "File \u001b[1;32m~\\anaconda3\\Lib\\site-packages\\pandas\\core\\indexes\\base.py:3655\u001b[0m, in \u001b[0;36mIndex.get_loc\u001b[1;34m(self, key)\u001b[0m\n\u001b[0;32m   3653\u001b[0m     \u001b[38;5;28;01mreturn\u001b[39;00m \u001b[38;5;28mself\u001b[39m\u001b[38;5;241m.\u001b[39m_engine\u001b[38;5;241m.\u001b[39mget_loc(casted_key)\n\u001b[0;32m   3654\u001b[0m \u001b[38;5;28;01mexcept\u001b[39;00m \u001b[38;5;167;01mKeyError\u001b[39;00m \u001b[38;5;28;01mas\u001b[39;00m err:\n\u001b[1;32m-> 3655\u001b[0m     \u001b[38;5;28;01mraise\u001b[39;00m \u001b[38;5;167;01mKeyError\u001b[39;00m(key) \u001b[38;5;28;01mfrom\u001b[39;00m \u001b[38;5;21;01merr\u001b[39;00m\n\u001b[0;32m   3656\u001b[0m \u001b[38;5;28;01mexcept\u001b[39;00m \u001b[38;5;167;01mTypeError\u001b[39;00m:\n\u001b[0;32m   3657\u001b[0m     \u001b[38;5;66;03m# If we have a listlike key, _check_indexing_error will raise\u001b[39;00m\n\u001b[0;32m   3658\u001b[0m     \u001b[38;5;66;03m#  InvalidIndexError. Otherwise we fall through and re-raise\u001b[39;00m\n\u001b[0;32m   3659\u001b[0m     \u001b[38;5;66;03m#  the TypeError.\u001b[39;00m\n\u001b[0;32m   3660\u001b[0m     \u001b[38;5;28mself\u001b[39m\u001b[38;5;241m.\u001b[39m_check_indexing_error(key)\n",
      "\u001b[1;31mKeyError\u001b[0m: 'Dimension'"
     ]
    }
   ],
   "source": [
    "Features[\"Dimension\"].replace(0, \"ace\", inplace = True)\n",
    "Features[\"Dimension\"] = Features[\"Dimension\"].fillna(Features[\"Dimension\"].mode)\n",
    "Dimension_totalTests = Features.groupby(['Dimension'])['Total Tests Completed'].sum()\n",
    "Dimension_totalTests"
   ]
  },
  {
   "cell_type": "code",
   "execution_count": 37,
   "id": "d0a52079",
   "metadata": {
    "scrolled": false
   },
   "outputs": [
    {
     "name": "stdout",
     "output_type": "stream",
     "text": [
      "<class 'pandas.core.frame.DataFrame'>\n",
      "RangeIndex: 195467 entries, 0 to 195466\n",
      "Data columns (total 39 columns):\n",
      " #   Column                                           Non-Null Count   Dtype         \n",
      "---  ------                                           --------------   -----         \n",
      " 0   Dog ID                                           17986 non-null   object        \n",
      " 1   Total Tests Completed                            17986 non-null   float64       \n",
      " 2   Mean ITI (days)                                  16718 non-null   float64       \n",
      " 3   Mean ITI (minutes)                               16718 non-null   float64       \n",
      " 4   Median ITI (days)                                16718 non-null   float64       \n",
      " 5   Median ITI (minutes)                             16718 non-null   float64       \n",
      " 6   Time diff between first and last game (days)     17986 non-null   float64       \n",
      " 7   Time diff between first and last game (minutes)  17986 non-null   float64       \n",
      " 8   User ID                                          17985 non-null   object        \n",
      " 9   Gender                                           195466 non-null  object        \n",
      " 10  Birthday                                         195466 non-null  float64       \n",
      " 11  Breed                                            195249 non-null  object        \n",
      " 12  Breed_Type                                       195466 non-null  object        \n",
      " 13  Breed_Group                                      106908 non-null  object        \n",
      " 14  Weight                                           195466 non-null  float64       \n",
      " 15  Dog_Fixed                                        193302 non-null  float64       \n",
      " 16  DNA_Tested                                       70953 non-null   float64       \n",
      " 17  Dimension                                        109055 non-null  object        \n",
      " 18  Sign_in_Count                                    195466 non-null  float64       \n",
      " 19  Max_Dogs                                         195466 non-null  float64       \n",
      " 20  Membership_ID                                    194320 non-null  float64       \n",
      " 21  Subscribed                                       195466 non-null  float64       \n",
      " 22  City                                             150095 non-null  object        \n",
      " 23  State                                            150115 non-null  object        \n",
      " 24  Zip                                              149675 non-null  object        \n",
      " 25  Country                                          151234 non-null  object        \n",
      " 26  Exclude                                          30748 non-null   object        \n",
      " 27  Free_Start_User                                  54306 non-null   object        \n",
      " 28  Last_Active_At                                   165861 non-null  object        \n",
      " 29  Membership_Type                                  194385 non-null  object        \n",
      " 30  Created_at                                       177481 non-null  datetime64[ns]\n",
      " 31  Updated_at                                       177481 non-null  datetime64[ns]\n",
      " 32  User_ID                                          177481 non-null  object        \n",
      " 33  Dog_ID                                           177481 non-null  object        \n",
      " 34  Test_name                                        177481 non-null  object        \n",
      " 35  Subcategory_name                                 177481 non-null  object        \n",
      " 36  Rating                                           1873 non-null    float64       \n",
      " 37  Rank_by_UserID                                   177025 non-null  float64       \n",
      " 38  Rank_by_DogID                                    177025 non-null  float64       \n",
      "dtypes: datetime64[ns](2), float64(18), object(19)\n",
      "memory usage: 58.2+ MB\n"
     ]
    }
   ],
   "source": [
    "df3.info()"
   ]
  },
  {
   "cell_type": "code",
   "execution_count": 46,
   "id": "1551c253",
   "metadata": {},
   "outputs": [
    {
     "data": {
      "text/plain": [
       "0          charmer\n",
       "1         protodog\n",
       "2              ace\n",
       "3              ace\n",
       "4         einstein\n",
       "            ...   \n",
       "195462         NaN\n",
       "195463         NaN\n",
       "195464         NaN\n",
       "195465         NaN\n",
       "195466         NaN\n",
       "Name: Dimension, Length: 195467, dtype: object"
      ]
     },
     "execution_count": 46,
     "metadata": {},
     "output_type": "execute_result"
    }
   ],
   "source": [
    "Features[\"Dimension\"]"
   ]
  },
  {
   "cell_type": "code",
   "execution_count": 48,
   "id": "970517ef",
   "metadata": {},
   "outputs": [
    {
     "data": {
      "text/plain": [
       "Dimension\n",
       "ace                96169.0\n",
       "charmer            14884.0\n",
       "einstein            2791.0\n",
       "expert              6425.0\n",
       "maverick            5769.0\n",
       "protodog           13078.0\n",
       "renaissance-dog    10922.0\n",
       "socialite          18671.0\n",
       "stargazer           7664.0\n",
       "Name: Total Tests Completed, dtype: float64"
      ]
     },
     "execution_count": 48,
     "metadata": {},
     "output_type": "execute_result"
    }
   ],
   "source": [
    "Dimension_Group = Features.groupby(['Dimension'])\n",
    "DT_Corrolation = Dimension_Group['Total Tests Completed'].sum()\n",
    "DT_Corrolation"
   ]
  },
  {
   "cell_type": "code",
   "execution_count": 63,
   "id": "8fccb565",
   "metadata": {},
   "outputs": [
    {
     "data": {
      "image/png": "[encoded data removed]",
      "text/plain": [
       "<Figure size 640x480 with 1 Axes>"
      ]
     },
     "metadata": {},
     "output_type": "display_data"
    }
   ],
   "source": [
    "import matplotlib.pyplot as plt\n",
    "\n",
    "ax = DT_Corrolation.plot(kind=\"pie\", ylabel = '')\n",
    "ax.legend(bbox_to_anchor=(1, 1.05), loc='upper left')\n",
    "plt.show()"
   ]
  },
  {
   "cell_type": "code",
   "execution_count": 61,
   "id": "19193dc0",
   "metadata": {},
   "outputs": [
    {
     "data": {
      "image/png": "[encoded data removed]",
      "text/plain": [
       "<Figure size 640x480 with 1 Axes>"
      ]
     },
     "metadata": {},
     "output_type": "display_data"
    }
   ],
   "source": [
    "plt.pie(DT_Corrolation)\n",
    "plt.show()"
   ]
  }
 ],
 "metadata": {
  "kernelspec": {
   "display_name": "Python 3 (ipykernel)",
   "language": "python",
   "name": "python3"
  },
  "language_info": {
   "codemirror_mode": {
    "name": "ipython",
    "version": 3
   },
   "file_extension": ".py",
   "mimetype": "text/x-python",
   "name": "python",
   "nbconvert_exporter": "python",
   "pygments_lexer": "ipython3",
   "version": "3.11.5"
  }
 },
 "nbformat": 4,
 "nbformat_minor": 5
}
